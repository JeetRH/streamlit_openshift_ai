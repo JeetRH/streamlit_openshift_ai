{
 "cells": [
  {
   "cell_type": "code",
   "execution_count": 357,
   "metadata": {},
   "outputs": [],
   "source": [
    "import requests\n",
    "import pandas as pd\n",
    "import json\n",
    "import base64\n",
    "from sklearn.preprocessing import LabelEncoder, StandardScaler"
   ]
  },
  {
   "cell_type": "code",
   "execution_count": 358,
   "metadata": {},
   "outputs": [],
   "source": [
    "input_df = pd.DataFrame([[\"PORSCHE\", \"911 Carrera Cabriolet\", \"MINICOMPACT\", 3.0, 6, \"M7\", \"Z\", 12.0, 8.2, 10.3, 27]], columns=['Make', 'Model', 'Vehicle Class', 'Engine Size(L)', 'Cylinders',\n",
    "       'Transmission', 'Fuel Type', 'Fuel Consumption City (L/100 km)',\n",
    "       'Fuel Consumption Hwy (L/100 km)', 'Fuel Consumption Comb (L/100 km)',\n",
    "       'Fuel Consumption Comb (mpg)'])"
   ]
  },
  {
   "cell_type": "code",
   "execution_count": 359,
   "metadata": {},
   "outputs": [
    {
     "name": "stdout",
     "output_type": "stream",
     "text": [
      "{'inputs': [{'name': 'float_input', 'shape': [1, 11], 'datatype': 'FP32', 'data': [0.0, 0.0, 0.0, 0.0, 0.0, 0.0, 0.0, 0.0, 0.0, 0.0, 0.0]}]}\n"
     ]
    }
   ],
   "source": [
    "# Define categorical and numerical columns\n",
    "categorical_cols = ['Make', 'Model', 'Vehicle Class', 'Transmission', 'Fuel Type']\n",
    "numerical_cols = ['Engine Size(L)', 'Cylinders', 'Fuel Consumption City (L/100 km)', 'Fuel Consumption Hwy (L/100 km)',\n",
    "                  'Fuel Consumption Comb (L/100 km)', 'Fuel Consumption Comb (mpg)']\n",
    "\n",
    "# Label encoding for categorical variables\n",
    "label_encoders = {}\n",
    "for col in categorical_cols:\n",
    "    label_encoders[col] = LabelEncoder()\n",
    "    input_df[col] = label_encoders[col].fit_transform(input_df[col])\n",
    "\n",
    "# Scaling for numerical variables\n",
    "scaler = StandardScaler()\n",
    "input_df[numerical_cols] = scaler.fit_transform(input_df[numerical_cols])\n",
    "\n",
    "# Convert DataFrame to list of values\n",
    "input_data = input_df.values.tolist()[0]\n",
    "\n",
    "# Construct payload\n",
    "payload = {\n",
    "    \"inputs\": [\n",
    "        {\n",
    "            \"name\": \"float_input\",  # Replace with actual input tensor name\n",
    "            \"shape\": [1, len(input_data)],  # Replace with actual input shape\n",
    "            \"datatype\": \"FP32\",  # Specify the data type as FP32\n",
    "            \"data\": input_data  # Include preprocessed input data\n",
    "        }\n",
    "    ]\n",
    "}\n",
    "\n",
    "\n",
    "print(payload)"
   ]
  },
  {
   "cell_type": "code",
   "execution_count": 360,
   "metadata": {},
   "outputs": [
    {
     "name": "stdout",
     "output_type": "stream",
     "text": [
      "200\n",
      "b'{\"model_name\":\"emissions-triton__isvc-1b4dc39a5b\",\"model_version\":\"1\",\"outputs\":[{\"name\":\"variable\",\"datatype\":\"FP32\",\"shape\":[1,1],\"data\":[125.01786]}]}'\n",
      "[125.01786]\n"
     ]
    }
   ],
   "source": [
    "# Your bearer token\n",
    "bearer_token = \"sha256~Jwwua-0mCVOFWQaAdyUWuZVMWmfGNQF8skTdCFHLjr0\"\n",
    "\n",
    "# You must adjust this path or read it from an environment variable\n",
    "INFERENCE_ENDPOINT = \"https://emissions-triton-streamlit.apps.cluster-tt88k.dynamic.redhatworkshops.io/v2/models/emissions-triton/infer\"\n",
    "\n",
    "# Define your request headers including the Authorization header with bearer token\n",
    "headers = {\n",
    "    \"Authorization\": f\"Bearer {bearer_token}\",\n",
    "    \"Content-Type\": \"application/json\"\n",
    "}\n",
    "\n",
    "# Send the POST request\n",
    "response = requests.post(INFERENCE_ENDPOINT, data=json.dumps(payload), headers=headers)\n",
    "\n",
    "print(response.status_code)\n",
    "print(response.content)\n",
    "\n",
    "# Parse the JSON response\n",
    "result = response.json()\n",
    "\n",
    "# Print predicted values\n",
    "print(result['outputs'][0]['data'])"
   ]
  }
 ],
 "metadata": {
  "kernelspec": {
   "display_name": ".venv",
   "language": "python",
   "name": "python3"
  },
  "language_info": {
   "codemirror_mode": {
    "name": "ipython",
    "version": 3
   },
   "file_extension": ".py",
   "mimetype": "text/x-python",
   "name": "python",
   "nbconvert_exporter": "python",
   "pygments_lexer": "ipython3",
   "version": "3.11.8"
  }
 },
 "nbformat": 4,
 "nbformat_minor": 2
}
