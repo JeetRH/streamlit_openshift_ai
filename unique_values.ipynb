{
 "cells": [
  {
   "cell_type": "code",
   "execution_count": 1,
   "metadata": {},
   "outputs": [],
   "source": [
    "import pandas as pd\n",
    "import numpy as np"
   ]
  },
  {
   "cell_type": "code",
   "execution_count": 2,
   "metadata": {},
   "outputs": [],
   "source": [
    "data_df = pd.read_csv('emissions_data/CO2_Emissions_Canada.csv')"
   ]
  },
  {
   "cell_type": "code",
   "execution_count": 3,
   "metadata": {},
   "outputs": [],
   "source": [
    "X = data_df.drop('CO2 Emissions(g/km)', axis=1)"
   ]
  },
  {
   "cell_type": "code",
   "execution_count": 4,
   "metadata": {},
   "outputs": [
    {
     "name": "stdout",
     "output_type": "stream",
     "text": [
      "Unique values in column 'Make': ['ACURA' 'ALFA ROMEO' 'ASTON MARTIN' 'AUDI' 'BENTLEY' 'BMW' 'BUICK'\n",
      " 'CADILLAC' 'CHEVROLET' 'CHRYSLER' 'DODGE' 'FIAT' 'FORD' 'GMC' 'HONDA'\n",
      " 'HYUNDAI' 'INFINITI' 'JAGUAR' 'JEEP' 'KIA' 'LAMBORGHINI' 'LAND ROVER'\n",
      " 'LEXUS' 'LINCOLN' 'MASERATI' 'MAZDA' 'MERCEDES-BENZ' 'MINI' 'MITSUBISHI'\n",
      " 'NISSAN' 'PORSCHE' 'RAM' 'ROLLS-ROYCE' 'SCION' 'SMART' 'SRT' 'SUBARU'\n",
      " 'TOYOTA' 'VOLKSWAGEN' 'VOLVO' 'GENESIS' 'BUGATTI']\n",
      "Unique values in column 'Model': ['ILX' 'ILX HYBRID' 'MDX 4WD' ... 'Tacoma 4WD D-Cab TRD Off-Road/Pro'\n",
      " 'Atlas Cross Sport 4MOTION' 'XC40 T4 AWD']\n",
      "Unique values in column 'Vehicle Class': ['COMPACT' 'SUV - SMALL' 'MID-SIZE' 'TWO-SEATER' 'MINICOMPACT'\n",
      " 'SUBCOMPACT' 'FULL-SIZE' 'STATION WAGON - SMALL' 'SUV - STANDARD'\n",
      " 'VAN - CARGO' 'VAN - PASSENGER' 'PICKUP TRUCK - STANDARD' 'MINIVAN'\n",
      " 'SPECIAL PURPOSE VEHICLE' 'STATION WAGON - MID-SIZE'\n",
      " 'PICKUP TRUCK - SMALL']\n",
      "Unique values in column 'Engine Size(L)': [2.  2.4 1.5 3.5 3.7 1.8 5.9 4.7 3.  4.  6.3 4.2 5.2 6.  6.8 4.4 3.6 1.4\n",
      " 2.5 6.2 4.3 5.3 4.8 1.2 5.7 6.4 4.6 5.4 1.6 5.  1.  5.8 3.8 3.3 5.6 3.2\n",
      " 6.5 5.5 2.1 3.4 2.7 6.6 6.7 1.3 8.4 2.3 2.8 0.9 2.9 8.  2.2]\n",
      "Unique values in column 'Cylinders': [ 4  6 12  8 10  3  5 16]\n",
      "Unique values in column 'Transmission': ['AS5' 'M6' 'AV7' 'AS6' 'AM6' 'A6' 'AM7' 'AV8' 'AS8' 'A7' 'A8' 'M7' 'A4'\n",
      " 'M5' 'AV' 'A5' 'AS7' 'A9' 'AS9' 'AV6' 'AS4' 'AM5' 'AM8' 'AM9' 'AS10'\n",
      " 'A10' 'AV10']\n",
      "Unique values in column 'Fuel Type': ['Z' 'D' 'X' 'E' 'N']\n",
      "Unique values in column 'Fuel Consumption City (L/100 km)': [ 9.9 11.2  6.  12.7 12.1 11.9 11.8 12.8 13.4 10.6  9.7 18.  17.4 18.1\n",
      " 11.5 10.8 12.   9.8 13.3 13.1 13.7 14.7 18.7 12.9 10.2 15.1 12.4 17.6\n",
      " 21.2 18.2 21.1 15.3 15.2 15.5 13.2 14.6 14.2 15.8 14.9 10.4 16.3 18.8\n",
      " 20.  20.3 22.3 10.   7.6 11.4 11.7  9.2 12.5 14.4 15.  10.5 17.3 16.2\n",
      " 12.6 13.6 16.4 14.3  9.5 18.4 19.4  9.6 11.6 12.3 11.3 19.7 16.7 17.\n",
      " 23.3 25.7 14.8 14.   9.1  8.7  8.4 13.9 19.8 17.1 23.5 18.3 23.7 18.6\n",
      " 23.9 25.3 21.9 30.  21.3 22.1 30.2  9.3 12.2 18.9 19.5 19.9  8.5  8.9\n",
      "  9.4  8.8  7.7 16.  21.5 16.1 16.8 14.1 15.6 10.1 17.7 19.2 14.5  7.9\n",
      "  5.6 24.1 19.3 24.9 25.5 20.6 26.7 10.9 24.5 15.9 15.4 20.1 20.2 22.4\n",
      " 20.4  8.6  7.5  8.   5.3 13.   9.  11.   4.7  8.1 10.3  6.6  8.3 15.7\n",
      "  6.5  8.2 13.5 16.6 10.7 11.1 18.5  6.7 22.8 17.2 25.  24.   5.5  5.8\n",
      "  6.2 17.9 17.8  6.4  7.  19.1  7.8  7.2 20.5 20.7  6.9  4.6 19.  16.9\n",
      " 13.8 19.6 21.  22.  30.3 22.2 30.6 16.5 21.7  5.4  7.3  7.1  5.7 17.5\n",
      " 20.9  6.8  4.5 23.   5.  21.6 21.8 23.1  5.9 23.6 24.3  4.4 23.2  4.8\n",
      " 20.8  4.9  7.4  4.3  4.2  6.3  5.1 26.8 21.4 23.8 24.2  6.1 26.3 26.6\n",
      " 26.2]\n",
      "Unique values in column 'Fuel Consumption Hwy (L/100 km)': [ 6.7  7.7  5.8  9.1  8.7  8.1  9.   9.5  7.5  8.3  6.9 12.6 11.3 12.2\n",
      "  7.4  8.6  6.2  8.5  8.8  6.5  9.7 11.5  9.2  7.8 10.9 11.  13.4 10.6\n",
      " 13.8  9.8 10.1  7.6 10.2 11.9 14.9  7.   5.5  7.2  7.3  7.9  8.   6.4\n",
      "  9.6  7.1  8.9 13.7  9.9 13.   8.2 12.9 12.5 11.8 16.1 17.8 10.4  6.3\n",
      "  5.1  6.   5.6 13.1 13.6 12.7 17.7 14.2 18.8 13.9 18.5 19.3 15.  20.4\n",
      " 14.3 20.5 10.3 11.4 15.1 11.7  6.6 11.1 14.6  6.8 11.2 10.  13.3  5.9\n",
      " 10.8  9.4 14.4 19.2 14.7 19.6 20.  15.5  9.3 18.  10.7 12.3 16.7 15.3\n",
      " 17.  16.9  5.7  8.4  4.9  6.1 12.1 14.1 12.8 13.5 12.4 16.6 14.8 15.9\n",
      " 15.7 10.5  5.4 12.  14.5  5.2 11.6 20.6 15.2 15.4 14.   5.3  5.  13.2\n",
      " 16.  18.6 17.9 16.5  4.6  4.5  4.4  4.   4.8 15.6 17.2 15.8 16.2 18.1\n",
      " 16.8  4.2  4.7]\n",
      "Unique values in column 'Fuel Consumption Comb (L/100 km)': [ 8.5  9.6  5.9 11.1 10.6 10.  10.1 11.6  9.2  9.8 10.4  8.4 15.6 14.7\n",
      " 15.4  8.8  9.3 10.2 10.9  8.1 11.2 11.3 12.5 15.5 10.5  9.  13.2 10.7\n",
      " 14.6 17.7 14.8 17.8 13.3 13.4 11.4 12.4 12.2 12.8 12.7  9.1 10.3 14.2\n",
      " 16.5 19.   8.7  6.7  9.9  7.9  8.3 13.8 11.  13.9 16.1 11.9 14.1 12.1\n",
      " 12.3 12.6 11.5  8.2  9.5 10.8 16.6 20.1 16.4 22.1 11.8 11.7 12.   7.8\n",
      "  7.1  7.7 16.2 17.  15.1 15.9 20.9 21.5 22.6 18.  18.8 25.7 18.2 18.9\n",
      " 25.8 14.3  8.  16.8 16.9 13.  17.3  7.5  6.9 18.4 14.4 13.1 15.7  8.6\n",
      "  7.3  7.2  6.8  6.  21.9 17.2 22.5 23.  21.2 18.3 23.9  9.4 16.  21.6\n",
      " 16.7 17.5 19.7 14.9 20.  19.9  7.6  6.6  7.   8.9  5.5 12.9  4.8  6.3\n",
      "  6.2 14.5 15.  18.1 13.7 13.5 15.8  9.7  6.4 17.4 21.4 20.7  5.6 15.3\n",
      "  7.4 14.  15.2 13.6 17.1  5.7  4.7  5.4  6.1  6.5 25.9 26.1 19.1 17.6\n",
      " 17.9 18.7  5.   5.2  5.8 18.5 16.3  5.3 19.8  5.1 21.  19.3  4.5 19.2\n",
      " 18.6 19.6  4.4  4.1 20.3 22.2 19.5  4.3 19.4  4.9 21.7 20.5  4.2]\n",
      "Unique values in column 'Fuel Consumption Comb (mpg)': [33 29 48 25 27 28 24 31 34 18 19 32 30 26 35 23 21 16 22 20 17 15 42 36\n",
      " 14 13 40 37 12 11 38 41 39 47 43 51 59 45 46 44 50 60 52 56 54 49 53 55\n",
      " 63 64 69 66 58 67]\n"
     ]
    }
   ],
   "source": [
    "unique_values = {col: X[col].unique() for col in X.columns}\n",
    "\n",
    "# Print unique values for each column\n",
    "for col, values in unique_values.items():\n",
    "    print(f\"Unique values in column '{col}': {values}\")"
   ]
  },
  {
   "cell_type": "code",
   "execution_count": null,
   "metadata": {},
   "outputs": [],
   "source": []
  }
 ],
 "metadata": {
  "kernelspec": {
   "display_name": ".venv",
   "language": "python",
   "name": "python3"
  },
  "language_info": {
   "codemirror_mode": {
    "name": "ipython",
    "version": 3
   },
   "file_extension": ".py",
   "mimetype": "text/x-python",
   "name": "python",
   "nbconvert_exporter": "python",
   "pygments_lexer": "ipython3",
   "version": "3.11.8"
  }
 },
 "nbformat": 4,
 "nbformat_minor": 2
}
